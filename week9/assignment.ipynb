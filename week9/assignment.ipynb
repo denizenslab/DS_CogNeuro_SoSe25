{
 "cells": [
  {
   "cell_type": "markdown",
   "metadata": {
    "collapsed": true
   },
   "source": [
    "## Playing around with HRF and stimuli"
   ]
  },
  {
   "cell_type": "code",
   "execution_count": null,
   "metadata": {},
   "outputs": [],
   "source": [
    "%matplotlib widget\n",
    "import numpy as np"
   ]
  },
  {
   "cell_type": "markdown",
   "metadata": {},
   "source": [
    "Let's take a hypothetical voxel $v$. Assume we now have two stimuli A and B. Voxel $v$ responds to stimulus A with a coefficient $w^v_A = 1$ and to stimulus B with coefficient $w^v_B = 0.5.$\n",
    "\n",
    "The following are the occurences of the stimuli:"
   ]
  },
  {
   "cell_type": "code",
   "execution_count": null,
   "metadata": {
    "collapsed": false
   },
   "outputs": [],
   "source": [
    "n = 200\n",
    "TR = 2\n",
    "stimulus_a = np.zeros([n,])\n",
    "stimulus_a[[10,15,30,33,35,37,150,155,170,180]] = 1\n",
    "stimulus_b = np.zeros([n,])\n",
    "stimulus_b[[26,27,50,53,55,57,150,155,173,183]] = 1\n"
   ]
  },
  {
   "cell_type": "markdown",
   "metadata": {},
   "source": [
    "(1) Compute and plot the response to each stimulus independently, using the HRF function from the neurods package, and the weights for each feature that are defined above. Use the stim_resp_plot function defined in the lecture to plot both answers"
   ]
  },
  {
   "cell_type": "code",
   "execution_count": null,
   "metadata": {
    "collapsed": true
   },
   "outputs": [],
   "source": [
    "### STUDENT ANSWER"
   ]
  },
  {
   "cell_type": "markdown",
   "metadata": {},
   "source": [
    "(2) Obtain the total activity in that voxel by summing the contributions of both features. Now create a function stim_resp_plot_2 which takes in two stimulus vectors, and plots each in a different color along with the total response from both of them. Use that new function to plot the total response."
   ]
  },
  {
   "cell_type": "code",
   "execution_count": null,
   "metadata": {
    "collapsed": true
   },
   "outputs": [],
   "source": [
    "### STUDENT ANSWER"
   ]
  },
  {
   "cell_type": "markdown",
   "metadata": {},
   "source": [
    "(3) Now create a function that takes as input two stimuli, an HRF function, and weights for the contribution of both stimuli to the activity of a voxel. That function should plot the same figure as question (2), and return the total activity as well. Test your function with new vectors stimulus_a and stimulus_b that you initialize how you want"
   ]
  },
  {
   "cell_type": "code",
   "execution_count": null,
   "metadata": {
    "collapsed": true
   },
   "outputs": [],
   "source": [
    "### STUDENT ANSWER"
   ]
  },
  {
   "cell_type": "markdown",
   "metadata": {},
   "source": [
    "(4) Now improve your function so it is not restricted to 2 stimuli only, but can take an $n \\times d$ stimulus matrix where d is the number of stimuli, the HRF function, and a d-length vector of weights for each feature. For simplicity, you only need to plot the total response. "
   ]
  },
  {
   "cell_type": "code",
   "execution_count": null,
   "metadata": {
    "collapsed": true
   },
   "outputs": [],
   "source": [
    "n = 200\n",
    "d = 4\n",
    "# initialize the matrix somehow, you can change this:\n",
    "stimulus_matrix = np.zeros([n,d])\n",
    "stimulus_matrix[range(10,30),0] =1\n",
    "stimulus_matrix[range(50,70),0] =1\n",
    "stimulus_matrix[range(130,160),0] =1\n",
    "stimulus_matrix[range(150,170),0] =1\n",
    "weights = np.array([0.5,0.5,1,2])\n",
    "### STUDENT ANSWER"
   ]
  }
 ],
 "metadata": {
  "kernelspec": {
   "display_name": "Python [py35]",
   "language": "python",
   "name": "Python [py35]"
  },
  "language_info": {
   "codemirror_mode": {
    "name": "ipython",
    "version": 3
   },
   "file_extension": ".py",
   "mimetype": "text/x-python",
   "name": "python",
   "nbconvert_exporter": "python",
   "pygments_lexer": "ipython3",
   "version": "3.5.2"
  }
 },
 "nbformat": 4,
 "nbformat_minor": 0
}
