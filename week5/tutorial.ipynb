{
 "cells": [
  {
   "cell_type": "markdown",
   "metadata": {},
   "source": [
    "# Overview\n",
    "Now that we've looked at \"average\" activity for particular events, it's time to start extracting more complicated information from our brain signals. Today's lecture is going to introduce several new topics, some of which are pretty unintuitive and/or complex. However, they're crucial to understanding the electrophysiological signals we record from the brain. Today we'll discuss a new way to think about neural signals: like a collection of oscillations. We'll cover how to filter out certain kinds of information in our neural signals. Finally, we'll combine all of these methods in order to extract a particularly useful representation of data called a **time-frequency representation**.\n",
    "\n",
    "## Goals for today\n",
    "* Understand what it means to \"filter\" a signal?\n",
    "* How to band-pass filter a signal\n",
    "* How to extract a frequency band's amplitude with a Morlet wavelet.\n",
    "* How to extract a time-frequency representation (TFR) with multiple Morlet wavelets.\n",
    "* How to calculate a stimulus-evoked time-frequency representation.\n",
    "\n",
    "---\n",
    "\n",
    "# What does it mean to filter a signal?\n",
    "In the data we've been playing with, you may have noticed that there seem to be patterns that repeat themselves in time. For example, let's look at one of our signals:"
   ]
  },
  {
   "cell_type": "code",
   "execution_count": null,
   "metadata": {
    "collapsed": false
   },
   "outputs": [],
   "source": [
    "import mne\n",
    "import numpy as np\n",
    "import matplotlib.pyplot as plt\n",
    "import pandas as pd\n",
    "import neurods as nds\n",
    "import datascience as ds\n",
    "%matplotlib widget"
   ]
  },
  {
   "cell_type": "code",
   "execution_count": null,
   "metadata": {
    "collapsed": false,
    "scrolled": false
   },
   "outputs": [],
   "source": [
    "path_raw = '../../data/eeg/mne_sample/'\n",
    "raw = mne.io.Raw(path_raw + 'mne_sample-raw.fif', preload=True)\n",
    "mne.set_eeg_reference(raw, copy=True)\n",
    "_ = raw.plot(scalings={'eeg': .00003})"
   ]
  },
  {
   "cell_type": "markdown",
   "metadata": {},
   "source": [
    "As you see, there may be some kind of repeating structure present in these brain signals. How could we determine if this is true or not? To do so we need to discuss filtering and oscillations."
   ]
  },
  {
   "cell_type": "markdown",
   "metadata": {},
   "source": [
    "## Oscillations\n",
    "Any pattern that repeats the same pattern over time we call *periodic*. This just means that this pattern oscillates over and over again.\n",
    "\n",
    "Once we've got an oscillation, the next question is \"how fast is it oscillating?\". At this point, we are getting close to diving into a field called \"signal processing\". This is really complicated, and beyond the scope of this class. However, we can cover some basic concepts here.\n",
    "\n",
    "We can define how often an oscillation occurs with its \"frequency\". This is measured in \"Hertz\" (Hz), and tells us how many times the pattern oscillates in a second. We've already covered the *sampling frequency* of a signal that we record. This is simply the number of samples we collect per second. When we talk about oscillations, the frequency means the number of *cycles* per second. For example, an oscillation with a 2Hz frequency oscillates 2 times every second. It has a \"period\" of 500 ms, the amount of time for one oscillation to occur.\n",
    "\n",
    "For example, here's the temperature in Oakland over the next several days:\n",
    "\n",
    "![alt text](../../data/images/weather_forecast.jpg \"weather_forecast\")\n",
    "\n",
    "As you can see, it rises and falls with each day. This is a periodic signal, with a period length of ~1 day. That means it has a frequency of:\n",
    "\n",
    "$\\frac{1\\:cycle}{1\\:day} * \\frac{1\\:day}{24\\:hours} * \\frac{1\\:hour}{60 \\:minutes} * \\frac{1\\:minute}{60\\:seconds} = \\frac{1\\:cycle}{86400\\:seconds} = 1.15e^{-5}Hz $\n",
    "\n",
    "That's a *really* slow signal in terms of brains, which oscillate with a much shorter period (or a much higher frequency, however you want to look at it).\n",
    "\n",
    "> * What are some other periodic signals we experience day to day?\n",
    "> * What are some assumptions we seem to make when we say that a signal has a specific frequency?"
   ]
  },
  {
   "cell_type": "markdown",
   "metadata": {},
   "source": [
    "Let's take a look at how we can investigate oscillations in our neural signals.\n",
    "\n",
    "## Filtering data (band-pass filters)\n",
    "If we want to know what kinds of oscillations are present in our data, we can filter it so that only a certain kind of oscillation remains. For example, say we want to know what our data looks like if we only keep the components that are oscillating at 10Hz. How could we accomplish this?\n",
    "\n",
    "Filtering a signal basically entails doing two things:\n",
    "\n",
    "1. Defining the shape of your filter (e.g., a sine wave that oscillates at 10 Hz)\n",
    "2. Determining how much overlap your signal has with that filter.\n",
    "3. (optionally) doing this for many time points of the original signal, to see if the amount of overlap changes with time.\n",
    "\n",
    "To filter our neural data at 10Hz, we need to define what our filter looks like..."
   ]
  },
  {
   "cell_type": "code",
   "execution_count": null,
   "metadata": {
    "collapsed": false
   },
   "outputs": [],
   "source": [
    "# We'll create a sine wave oscillating with a frequency of 10 Hz. It will oscillate between -1 and 1\n",
    "freq = 10\n",
    "amp = 1\n",
    "\n",
    "# Here's the equation for a sine wave\n",
    "sine = amp * np.sin(2 * np.pi * freq * raw.times)\n",
    "\n",
    "# We'll plot 1 second of activity to confirm our frequency\n",
    "f, ax = plt.subplots()\n",
    "ax.plot(sine[:round(raw.info['sfreq']) * 1])"
   ]
  },
  {
   "cell_type": "markdown",
   "metadata": {},
   "source": [
    "Say we wanted to know how much overlap there was between this sine wave and the signal. We could look at this by just multiplying the two, and then taking the average output. \n",
    "\n",
    "* If our signal is roughly the same shape as the sine wave, then the result will be nonzero.\n",
    "* If our signal isn't correlated with the sin wave, then our result will tend to be zero."
   ]
  },
  {
   "cell_type": "code",
   "execution_count": null,
   "metadata": {
    "collapsed": false
   },
   "outputs": [],
   "source": [
    "# We'll just multiply the two together:\n",
    "ix_pick = mne.pick_channels(raw.ch_names, ['EEG 054'])[0]\n",
    "data_filtered = raw._data[ix_pick].copy()\n",
    "data_filtered -= data_filtered.mean()\n",
    "np.sum(sine * data_filtered)"
   ]
  },
  {
   "cell_type": "markdown",
   "metadata": {},
   "source": [
    "However, in this case we've collapsed our original signal into a single number. But this removes a lot of information about how our signal changes in time.\n",
    "\n",
    "To get around this, we'll shorten our sine wave signal, and then do this multiplication process for a *sliding window* moving across our neural signal.\n",
    "\n",
    "We'll cut our sine wave so that it has length 400ms.\n",
    "\n",
    "> * How many cycles does this amount to?"
   ]
  },
  {
   "cell_type": "code",
   "execution_count": null,
   "metadata": {
    "collapsed": false
   },
   "outputs": [],
   "source": [
    "sine_window = sine[:int(.4 * raw.info['sfreq'])]\n",
    "\n",
    "# Make a quick plot for comparison.\n",
    "fig, ax = plt.subplots()\n",
    "ax.plot(sine[:5*round(raw.info['sfreq'])])\n",
    "ax.plot(sine_window + 2)\n",
    "ax.legend(['Full Wave', 'Window'])\n",
    "ax.set_xlim([0, 5*round(raw.info['sfreq'])])"
   ]
  },
  {
   "cell_type": "markdown",
   "metadata": {},
   "source": [
    "Next, we'll create a function that uses a sine wave to filter a dataset. We'll define this below..."
   ]
  },
  {
   "cell_type": "code",
   "execution_count": null,
   "metadata": {
    "collapsed": true
   },
   "outputs": [],
   "source": [
    "def filter_with_sinewave(data, sinewave):\n",
    "    len_window = sinewave.shape[-1]\n",
    "\n",
    "    # We'll add zeros to the end of the signal so that we can move all the way through\n",
    "    data_window_filtered_base = np.hstack([data_filtered, np.zeros(len(sinewave))])\n",
    "    \n",
    "    # Now, iterate through our original signal, multiplying by the sine window\n",
    "    data_window_filtered = np.zeros_like(data_filtered)\n",
    "    for i in range(data_filtered.shape[-1]):\n",
    "        # Pull the data values for this window and subtract the mean\n",
    "        i_data_window = data_window_filtered_base[i:i + len_window]\n",
    "        i_data_window = i_data_window - np.mean(i_data_window)\n",
    "        \n",
    "        # Now multiple the window by our sine wave, and sum together.\n",
    "        overlap = sinewave * i_data_window\n",
    "        data_window_filtered[i] = np.sum(overlap)\n",
    "    return data_window_filtered"
   ]
  },
  {
   "cell_type": "markdown",
   "metadata": {},
   "source": [
    "> * Let's try to explain the above function in our own terms.\n",
    "> * Why is it possible to do this relatively quickly?"
   ]
  },
  {
   "cell_type": "markdown",
   "metadata": {},
   "source": [
    "Now, we'll use this function to filter our data with the sine wave that we created above.\n",
    "\n",
    "First, we'll take at a snippet of sample data:"
   ]
  },
  {
   "cell_type": "code",
   "execution_count": null,
   "metadata": {
    "collapsed": false
   },
   "outputs": [],
   "source": [
    "tmin, tmax = 218, 226\n",
    "ixmin, ixmax = (raw.info['sfreq'] * np.array([tmin, tmax])).astype(int)\n",
    "ixs_plot = np.arange(ixmin, ixmax)\n",
    "\n",
    "fig, ax = plt.subplots()\n",
    "ax.plot(raw.times[ixs_plot], data_filtered[ixs_plot])\n",
    "ax.set_title('Raw data sample')"
   ]
  },
  {
   "cell_type": "code",
   "execution_count": null,
   "metadata": {
    "collapsed": false
   },
   "outputs": [],
   "source": [
    "# Now we'll use our sinewave window and multiply it many times by the signal.\n",
    "len_window = sine_window.shape[-1]\n",
    "filtered_high_freq = filter_with_sinewave(data_filtered, sine_window)"
   ]
  },
  {
   "cell_type": "markdown",
   "metadata": {},
   "source": [
    "> * What should the output look like? Will it look like our original signal?"
   ]
  },
  {
   "cell_type": "code",
   "execution_count": null,
   "metadata": {
    "collapsed": false
   },
   "outputs": [],
   "source": [
    "# We'll plot the output to see what it looks like:\n",
    "f, axs = plt.subplots(2, 1)\n",
    "axs[0].plot(raw.times[ixs_plot], data_filtered[ixs_plot])\n",
    "axs[1].plot(raw.times[ixs_plot], filtered_high_freq[ixs_plot])\n",
    "\n",
    "axs[0].set_title('Raw Signal')\n",
    "axs[1].set_title('Overlap w/ {0:2d} Hz'.format(freq))\n",
    "_ = plt.setp(axs, xlim=[raw.times[ixs_plot][0], None])\n"
   ]
  },
  {
   "cell_type": "markdown",
   "metadata": {},
   "source": [
    "> * How have we shaped the original signal? What does it look like now?\n",
    "\n",
    "What we've just done is very similar to a technique called *convolution*. This is a more rigorous way of filtering one signal using another. We won't go into the details of convolutions in this class, but know that you're doing something very similar to what's above every time you perform one.\n",
    "\n",
    "Let's try a different frequency and see how the output changes:"
   ]
  },
  {
   "cell_type": "code",
   "execution_count": null,
   "metadata": {
    "collapsed": false
   },
   "outputs": [],
   "source": [
    "# We'll create a sine wave oscillating with a frequency of 6 Hz.\n",
    "# It will oscillate between -1 and 1\n",
    "freq = 6\n",
    "sine = amp * np.sin(2 * np.pi * freq * raw.times)\n",
    "sine_window = sine[:int(.4 * round(raw.info['sfreq']))]\n",
    "\n",
    "# We'll plot 1 second of activity to confirm our frequency\n",
    "f, ax = plt.subplots()\n",
    "ax.plot(sine[:round(raw.info['sfreq']) * 1])"
   ]
  },
  {
   "cell_type": "code",
   "execution_count": null,
   "metadata": {
    "collapsed": false
   },
   "outputs": [],
   "source": [
    "# Filter the signal using a lower-frequency wave\n",
    "filtered_low_freq = filter_with_sinewave(data_filtered, sine_window)\n",
    "\n",
    "# We'll plot the output to see what it looks like:\n",
    "ixmin, ixmax = (raw.info['sfreq'] * np.array([tmin, tmax])).astype(int)\n",
    "ixs_plot = np.arange(ixmin, ixmax)\n",
    "f, axs = plt.subplots(2, 1)\n",
    "axs[0].plot(raw.times[ixs_plot], data_filtered[ixs_plot])\n",
    "axs[1].plot(raw.times[ixs_plot], filtered_low_freq[ixs_plot])\n",
    "\n",
    "axs[0].set_title('Raw Signal')\n",
    "axs[1].set_title('Overlap w/ {0:2d} Hz'.format(freq))\n",
    "_ = plt.setp(axs, xlim=[raw.times[ixs_plot][0], None])\n",
    "plt.tight_layout()"
   ]
  },
  {
   "cell_type": "markdown",
   "metadata": {},
   "source": [
    "> * How do the two filtering procedures differ?\n",
    "> * What information can we take from the output in either case?"
   ]
  },
  {
   "cell_type": "markdown",
   "metadata": {},
   "source": [
    "### Filtering with MNE\n",
    "Fortunately for us, there are many packages that use their own filtering code. For example, with MNE objects we can easily filter a signal. The easiest way to do this is with a `Raw` object's `filter` method:"
   ]
  },
  {
   "cell_type": "markdown",
   "metadata": {},
   "source": [
    "We can do filtering with wavelets in a similar manner to how we used a sine wave earlier in this lecture. "
   ]
  },
  {
   "cell_type": "code",
   "execution_count": null,
   "metadata": {
    "collapsed": false
   },
   "outputs": [],
   "source": [
    "# The `filter` method takes a low frequency and a high frequency.\n",
    "# It will filter out anything that's outside of these values\n",
    "#raw.filter(\n",
    "fmin, fmax = 9.5, 10.5\n",
    "raw_filtered = raw.copy()\n",
    "raw_filtered.filter(fmin, fmax)"
   ]
  },
  {
   "cell_type": "code",
   "execution_count": null,
   "metadata": {
    "collapsed": false
   },
   "outputs": [],
   "source": [
    "_ = raw_filtered.plot(scalings='auto')"
   ]
  },
  {
   "cell_type": "markdown",
   "metadata": {},
   "source": [
    "We can see that our data now looks a lot cleaner. This is because we've removed all of the activity in our data that **isn't** oscillating at 10Hz.\n",
    "\n",
    "When you filter a signal so that only a subset of frequencies remain, it is called a \"band-pass\" filter. This is because you've allowed a \"band\" of frequencies to pass through the filter, and all other frequencies are filtered out.\n",
    "\n",
    "We can do the same filtering process for lower frequencies as well."
   ]
  },
  {
   "cell_type": "code",
   "execution_count": null,
   "metadata": {
    "collapsed": false
   },
   "outputs": [],
   "source": [
    "raw_filter_low = raw_filtered.filter(2, 3)\n",
    "_ = raw_filter_low.plot(scalings='auto')"
   ]
  },
  {
   "cell_type": "markdown",
   "metadata": {},
   "source": [
    "> * Why would we use the MNE filtering function instead of our own?"
   ]
  },
  {
   "cell_type": "markdown",
   "metadata": {},
   "source": [
    "## Calculating the \"amplitude\" of a frequency\n",
    "As we've seen above, after we filter a signal the resulting output can be \"large\" or \"small\". For example, in our sine-wave filtering, we saw that the resulting sinewave had large fluctuations in different timepoints depending on the filtering signal we used.\n",
    "\n",
    "We can calculate the amplitude of a frequency in a number of ways. The simplest way to do this is with something called a \"continuous wavelet transform\". This is a fancier version of the window multiplication that we did manually above (it uses something called **wavelets** instead of sine waves, and is slightly more complicated).\n",
    "\n",
    "### A quick primer on wavelets vs. sine waves\n",
    "A wavelet is basically a sine wave with an amplitude that tapers off on both sides. For example:"
   ]
  },
  {
   "cell_type": "code",
   "execution_count": null,
   "metadata": {
    "collapsed": false
   },
   "outputs": [],
   "source": [
    "# Common to both signals\n",
    "freq = 10\n",
    "sfreq = raw.info['sfreq']\n",
    "n_cycles = 5\n",
    "time_stop = n_cycles * 1. / freq\n",
    "\n",
    "# Simulate a sine wave\n",
    "times_sine = np.arange(0, time_stop, 1. / sfreq)\n",
    "sine = np.sin(2 * np.pi * freq * times_sine)\n",
    "\n",
    "# Now create a wavelet at the same frequency / sfreq\n",
    "Ws = mne.time_frequency.morlet(sfreq, [freq], n_cycles)[0]\n",
    "times_wavelet = np.arange(Ws.shape[0]) / sfreq\n",
    "\n",
    "# Plot each one\n",
    "f, axs = plt.subplots(2, 1)\n",
    "axs[0].plot(times_sine, sine)\n",
    "axs[0].set_title('Sine Wave')\n",
    "axs[1].plot(times_wavelet, np.real(Ws))\n",
    "axs[1].set_title('Wavelet')"
   ]
  },
  {
   "cell_type": "markdown",
   "metadata": {},
   "source": [
    "### The Continuous Wavelet Transform\n",
    "In the example at the beginning of lecture, we use a sine wave as a window, multiplied the window by the signal, calculated the output, and then slid the window to the next time.\n",
    "\n",
    "MNE has a helper function that quickly does the window multiplication that we did manually above (it uses wavelets instead of sine waves, and is slightly more complicated). Here's how to use it:"
   ]
  },
  {
   "cell_type": "code",
   "execution_count": null,
   "metadata": {
    "collapsed": false
   },
   "outputs": [],
   "source": [
    "freqs = [6]\n",
    "sfreq = raw.info['sfreq']\n",
    "\n",
    "# Reshape data to fit the shape (n_epochs, n_channels, n_times) which is required by tfr_array_morlet\n",
    "data_filtered_reshaped = data_filtered[np.newaxis, np.newaxis, :] \n",
    "\n",
    "# Compute Morlet wavelet transform\n",
    "out_wavelet = mne.time_frequency.tfr_array_morlet(data_filtered_reshaped,\n",
    "                                                  sfreq=sfreq,\n",
    "                                                  freqs=freqs)\n",
    "\n",
    "# We'll take the first item of the output, since we have 1 epoch, 1 channel and 1 frequency\n",
    "out_wavelet = out_wavelet[0, 0, 0, :]\n",
    "\n",
    "# Taking the absolute value gives you the *amplitude* of the output\n",
    "wavelet_amp = np.abs(out_wavelet)\n",
    "\n",
    "# Taking the \"real\" value gives you the filtered signal\n",
    "wavelet_band = np.real(out_wavelet)"
   ]
  },
  {
   "cell_type": "code",
   "execution_count": null,
   "metadata": {
    "collapsed": false
   },
   "outputs": [],
   "source": [
    "# Plot the results\n",
    "f, axs = plt.subplots(2, 1, sharex=True, figsize=(8, 5))\n",
    "time = raw.times[ixs_plot]\n",
    "axs[0].plot(time, data_filtered[ixs_plot])\n",
    "axs[0].set_title('Raw signal')\n",
    "\n",
    "axs[1].plot(time, wavelet_band[ixs_plot])\n",
    "axs[1].set_title('Filtered signal + amplitude')\n",
    "axs[1].plot(time, wavelet_amp[ixs_plot], color='r')\n",
    "plt.tight_layout()"
   ]
  },
  {
   "cell_type": "markdown",
   "metadata": {},
   "source": [
    "By calculating the amplitude, we determine \"how much\" of this frequency is present in the signal at each moment in time.\n",
    "\n",
    "> What's all this about taking the \"real\" part of a number? This begins to dive into the complicated world of signal processing. We won't cover this topic here, but the basic idea is that we can break down a signal into two parts. We call one of those parts the \"real\" part, and the other one the \"imaginary\" part. If we know both of these numbers for a signal, then we can calculate both its amplitude *and* its phase (which is another way of describing where in a cycle that signal happens to be).\n",
    "\n",
    "> The important thing to remember is that the output of a wavelet transform gives us a set of **complex** numbers. We can get the raw filtered signal by taking the **real** component of those numbers, and we can get the amplitude of the frequency band by taking the **absolute value** of those numbers. \n",
    "\n",
    "## Frequencies in the brain\n",
    "Why do we care about filtering the brain signal in these ways? There is a lot of research that suggests that different frequency patterns in neural signals might reflect different kinds of neural processes.\n",
    "\n",
    "For example, you may have heard about \"sleep waves\" in the brain. These reflect the change in brain activity as you move through your sleep cycles. They are detected as a change in frequency content that's in your brain activity.\n",
    "\n",
    "In neuroscience, we often split the full range of possible frequencies into pre-defined \"frequency bands\". These are some common bands:\n",
    "\n",
    "* delta = 0-4 Hz\n",
    "* theta = 4-7 Hz\n",
    "* alpha = 8-15 Hz\n",
    "* beta = 16-31 Hz\n",
    "* gamma = 32-70 Hz\n",
    "* high-gamma = >70 Hz\n",
    "\n",
    "Here's an example of what some of these \"brain waves\" look like in the context of sleep:\n",
    "\n",
    "![alt text](../../data/images/brain_waves.jpg \"brain_waves\")\n",
    "\n",
    "\n",
    "As you move between sleep stages, there will be different amounts of each of the above frequency bands present in the signal. There is a rich literature in how to interpret and understand these \"rhythms of the brain\".\n",
    "\n",
    "> * Why do you think that oscillations exist in the brain? Do they have a function?"
   ]
  },
  {
   "cell_type": "markdown",
   "metadata": {},
   "source": [
    "## Time-Frequency Representations\n",
    "The final component we'll cover today is an extension of the filtering that we just performed.\n",
    "\n",
    "Recall that we can filter a signal, so that only a single frequency remained. The output of this filtering was a signal that varied in time, oscillating at the given frequency. The output looked like this:\n",
    "\n",
    "![alt text](../../data/images/band_pass.jpg \"band_pass\")\n",
    "\n",
    "However, what if we want to split up our signal into *several* component frequencies? Moreover, we want to know the *amplitude* of the output at each frequency (as opposed to the raw filtered signal).\n",
    "\n",
    "To do this, we need to create a bunch of band-pass filters. We'll filter the signal at multiple frequencies and calculate the amplitude of the output. This will tell us how the frequency content of a signal *changes* in time.\n",
    "\n",
    "To accomplish this, we do the following:\n",
    "\n",
    "* Define a range of frequencies that we care about (usually from lower to higher frequencies). Then:\n",
    "* For each frequency band:\n",
    "  * Band-pass filter the signal for that frequency\n",
    "  * Calculate the **amplitude** of the output. This tells us \"how much\" of that frequency is present at each moment in time.\n",
    "* Now we have 1 output signal per frequency, representing the time-varying **amplitude** of that frequency band.\n",
    "* Stack all these signals, so that we now have data that has a shape (n_frequencies, n_times). This is called a **time-frequency representation**.\n",
    "\n",
    "The Time-Frequency representation is often called a **spectrogram**. There are also many ways to create a spectrogram. We'll use the same wavelet transform we used above, but this time with many frequencies."
   ]
  },
  {
   "cell_type": "code",
   "execution_count": null,
   "metadata": {
    "collapsed": false
   },
   "outputs": [],
   "source": [
    "# First, we'll convert our data into trials\n",
    "events = pd.read_csv(path_raw + 'mne_sample-events.csv')\n",
    "events = events[['index', 'previous_value', 'event_type']].values\n",
    "epochs = mne.Epochs(raw, events, tmin=-.5, tmax=1, preload=True)\n",
    "\n",
    "# We'll select a subset of trials to speed things up\n",
    "epochs_tfr = epochs.copy()['1']\n",
    "\n",
    "# And resample so that computation is faster\n",
    "epochs_tfr.resample(200)"
   ]
  },
  {
   "cell_type": "code",
   "execution_count": null,
   "metadata": {
    "collapsed": false
   },
   "outputs": [],
   "source": [
    "# Define a range of frequencies to extract from the signal\n",
    "freqs = np.arange(4, 25, 1)\n",
    "\n",
    "# Decimation factor\n",
    "n_decimate = 2\n",
    "\n",
    "# Perform time-frequency decomposition using Morlet wavelets\n",
    "\n",
    "# Calculate number of cycles for each frequency\n",
    "n_cycles = freqs/2.  # A common choice is n_cycles = freqs / 2\n",
    "\n",
    "# Perform the time-frequency decomposition\n",
    "tfr = epochs_tfr.compute_tfr(method='morlet', freqs=freqs, decim=n_decimate, n_cycles=n_cycles, output='complex')\n",
    "\n",
    "# Compute the amplitude of the TFR by taking the absolute value of the complex TFR\n",
    "tfr_amplitude = np.abs(tfr.get_data())\n",
    "\n",
    "# New time points after decimation\n",
    "times_new = epochs_tfr.times[::n_decimate]\n"
   ]
  },
  {
   "cell_type": "markdown",
   "metadata": {},
   "source": [
    "This returns an array that is shape (n_trials, n_channels, n_frequencies, n_times)."
   ]
  },
  {
   "cell_type": "code",
   "execution_count": null,
   "metadata": {
    "collapsed": false
   },
   "outputs": [],
   "source": [
    "# Note that we can access the raw TFR data too\n",
    "# The TFR is of shape (n_epochs, n_channels, n_frequencies, n_timepoints)\n",
    "tfr_amplitude.shape"
   ]
  },
  {
   "cell_type": "markdown",
   "metadata": {},
   "source": [
    "It is a time-frequency representation of the data. We can use this to investigate a single time-frequency response for a channel, by averaging across trials for that channel:"
   ]
  },
  {
   "cell_type": "code",
   "execution_count": null,
   "metadata": {
    "collapsed": false
   },
   "outputs": [],
   "source": [
    "ch_plt = 14\n",
    "nds.viz.plot_tfr(times_new, freqs, tfr_amplitude.mean(0)[ch_plt], use_log=True,\n",
    "                 baseline=(None, 0), linear_y=True)"
   ]
  },
  {
   "cell_type": "markdown",
   "metadata": {
    "collapsed": true
   },
   "source": [
    "> * Do you see any structure in the time-frequency response here?\n",
    "> * What do you think it means if there is an increase in activity in a specific band?\n",
    "> * Can you think of any differences in interpreting the lower frequencies vs. the higher frequencies?"
   ]
  },
  {
   "cell_type": "markdown",
   "metadata": {},
   "source": [
    "# Bonus: Testing for deviations from baseline with a confidence interval\n",
    "While it's nice to show evoked activity by simply visualizing it, it's also important that we can make *statistical* statements about the data as well. Last week you learned about creating a confidence interval around some value (e.g., the difference between two conditions). This gives us an idea of the *uncertainty* for that value.\n",
    "\n",
    "In this case, we'll see if there is an evoked pattern of activity at a particular frequency band, above the baseline times. We will first need to baseline our TFR data.\n",
    "\n",
    "> * What does it mean to \"baseline\" a dataset?\n",
    "\n",
    "We can baseline the data as follows:"
   ]
  },
  {
   "cell_type": "code",
   "execution_count": null,
   "metadata": {
    "collapsed": false
   },
   "outputs": [],
   "source": [
    "# Define a baseline, and apply it to the data\n",
    "baseline = (None, 0)\n",
    "_ = mne.baseline.rescale(tfr, times_new, baseline, copy=False)"
   ]
  },
  {
   "cell_type": "markdown",
   "metadata": {},
   "source": [
    "> * Why did I just throw away the variable, why didn't I assign it to something new?"
   ]
  },
  {
   "cell_type": "markdown",
   "metadata": {},
   "source": [
    "Now that the data is baselined, each trial shows the increase in TFR activity *over* baseline. We'll perform the statistical test on the channel we showed above. The basic steps go like this:\n",
    "\n",
    "To calculate a confidence interval on the evoked TFR power, do the following:\n",
    "* Baseline the data with a mean baseline. `(None, 0)` means take all timepoints before `t==0` in the baseline. \n",
    "* Calculate a time range you wish to include\n",
    "* Calculate a frequency range you wish to include\n",
    "* Calculate the mean value of this time / frequency range for each trial.\n",
    "* Perform a bootstrap test on the mean of these values to calculate the confidence interval."
   ]
  },
  {
   "cell_type": "code",
   "execution_count": null,
   "metadata": {
    "collapsed": true
   },
   "outputs": [],
   "source": [
    "# We'll eyeball the time range since we're not being rigorous here:\n",
    "time_range = (.4, .8)\n",
    "mask_time = nds.time_mask(times_new, time_range[0], time_range[1])\n",
    "\n",
    "# Same for frequencies\n",
    "freq_range = (3, 8)\n",
    "mask_freqs = nds.time_mask(freqs, freq_range[0], freq_range[1])"
   ]
  },
  {
   "cell_type": "code",
   "execution_count": null,
   "metadata": {
    "collapsed": false
   },
   "outputs": [],
   "source": [
    "tfr_data = tfr.get_data()\n",
    "data_stat = tfr_data[:, ch_plt, :, :]\n",
    "\n",
    "# Pick freqs we want\n",
    "data_stat = data_stat[:, mask_freqs, :]\n",
    "\n",
    "# Pick times we want\n",
    "data_stat = data_stat[:, :, mask_time]\n",
    "\n",
    "# Now we have picked a subset of frequencies and times\n",
    "print(data_stat.shape)\n",
    "\n",
    "# Finally, we'll calculate the mean value for each trial\n",
    "# We'll average out the 2nd dimension twice, leaving us w/ a vector length==n_trials\n",
    "data_stat = data_stat.mean(axis=1).mean(axis=1)\n",
    "print(data_stat.shape)\n",
    "\n",
    "# Now we'll assign it to a Table for easy sampling\n",
    "data_stat = ds.Table().with_columns([('mean', data_stat)])"
   ]
  },
  {
   "cell_type": "markdown",
   "metadata": {},
   "source": [
    "Now, we'll perform the bootstrap. We'll repeat it a thousand times, doing the following each time:\n",
    "\n",
    "* Take a random sample of trials with replacement\n",
    "* Calculate and store this sample's mean\n",
    "* Finally, calculate a 95% confidence interval on this distribution of means"
   ]
  },
  {
   "cell_type": "code",
   "execution_count": null,
   "metadata": {
    "collapsed": false
   },
   "outputs": [],
   "source": [
    "# Perform the bootstrap\n",
    "n_boots = 1000\n",
    "n_rows = data_stat.num_rows\n",
    "means = np.zeros(n_boots)\n",
    "for ii in range(n_boots):\n",
    "    sample = data_stat.sample(n_rows, with_replacement=True)['mean']\n",
    "    means[ii] = sample.mean()\n",
    "\n",
    "# Calculate the confidence interval. We'll perform 2 intervals\n",
    "clo99, chi99 = np.percentile(means, [.5, 99.5])\n",
    "clo95, chi95 = np.percentile(means, [2.5, 97.5])"
   ]
  },
  {
   "cell_type": "markdown",
   "metadata": {},
   "source": [
    "> * Why am I using .5 and 99.5 instead of 1 and 99?\n",
    "> * What is the effect of choosing a larger confidence interval? Is it more or less conservative?\n",
    "\n",
    "Finally, we'll plot the distribution of bootstrap means, and our confidence interval:"
   ]
  },
  {
   "cell_type": "code",
   "execution_count": null,
   "metadata": {
    "collapsed": false
   },
   "outputs": [],
   "source": [
    "f, ax = plt.subplots()\n",
    "ax.hist(means)\n",
    "for clo, chi, color in [[clo99, chi99, 'r'], [clo95, chi95, 'k']]:\n",
    "    ax.axvline(clo, color=color, lw=4)\n",
    "    ax.axvline(chi, color=color, lw=4)\n",
    "ax.axvline(0, color='k', ls='--', lw=2)\n",
    "ax.set_title('Bootstrap distribution and confidence intervals')"
   ]
  },
  {
   "cell_type": "markdown",
   "metadata": {},
   "source": [
    "> * Which color of vertical lines is the 99% confidence interval?\n",
    "> * Can we conclude anything about the TFR's value relative to 0? Why?\n",
    "> * Do you think this is \"meaningful\"? And why/why not?"
   ]
  }
 ],
 "metadata": {
  "hide_input": false,
  "kernelspec": {
   "display_name": "Python 3",
   "language": "python",
   "name": "python3"
  },
  "language_info": {
   "codemirror_mode": {
    "name": "ipython",
    "version": 3
   },
   "file_extension": ".py",
   "mimetype": "text/x-python",
   "name": "python",
   "nbconvert_exporter": "python",
   "pygments_lexer": "ipython3",
   "version": "3.5.2"
  }
 },
 "nbformat": 4,
 "nbformat_minor": 0
}
