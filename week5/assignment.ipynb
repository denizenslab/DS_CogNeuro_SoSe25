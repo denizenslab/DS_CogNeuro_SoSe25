{
 "cells": [
  {
   "cell_type": "markdown",
   "metadata": {},
   "source": [
    "# Time Frequency analysis in ECoG\n",
    "\n",
    "This week's lab will explore the frequency representation of ECoG. We'll calculate the full time-frequency representation of an ECoG signal, and then focus on a particular frequency band of interest.\n",
    "\n",
    "We'll now be going back into the world of ECoG, to see what differences we find. We'll use the same \"consonant/dissonant\" dataset seen in previous weeks. Perhaps by investigating the time-frequency representation of the signal we will uncover things that we couldn't see before..."
   ]
  },
  {
   "cell_type": "code",
   "execution_count": null,
   "metadata": {
    "collapsed": false
   },
   "outputs": [],
   "source": [
    "import mne\n",
    "import numpy as np\n",
    "import datascience as ds\n",
    "import neurods as nds\n",
    "import matplotlib.pyplot as plt\n",
    "%matplotlib widget"
   ]
  },
  {
   "cell_type": "markdown",
   "metadata": {},
   "source": [
    "* Load in the raw data from the consonant/dissonant task\n",
    "* Also load the image of the brain and layout of ECoG channels\n",
    "* Finally, load in the event timing information for this task."
   ]
  },
  {
   "cell_type": "code",
   "execution_count": null,
   "metadata": {
    "collapsed": false
   },
   "outputs": [],
   "source": [
    "path_ecog = '../../data/ecog/chords_task/'\n",
    "data_path = path_ecog + 'ecog_resamp-raw.fif'\n",
    "event_path = path_ecog + 'meta_time.csv'\n",
    "brain_image_path = path_ecog + 'brain.png'\n",
    "layout_path = path_ecog + 'brain.lout'\n",
    "\n",
    "### STUDENT ANSWER\n"
   ]
  },
  {
   "cell_type": "markdown",
   "metadata": {},
   "source": [
    "* Convert the events information into an MNE events object. Make sure to include all event types in the events object.\n",
    "* Also create an events dictionary that maps event types onto event ID numbers."
   ]
  },
  {
   "cell_type": "code",
   "execution_count": null,
   "metadata": {
    "collapsed": false
   },
   "outputs": [],
   "source": [
    "### STUDENT ANSWER\n"
   ]
  },
  {
   "cell_type": "markdown",
   "metadata": {},
   "source": [
    "* Using this events array and our events dictionary, convert the `Raw` data to an `Epochs` object\n",
    "* Plot the global field power for each event type."
   ]
  },
  {
   "cell_type": "code",
   "execution_count": null,
   "metadata": {
    "collapsed": false
   },
   "outputs": [],
   "source": [
    "### STUDENT ANSWER\n"
   ]
  },
  {
   "cell_type": "code",
   "execution_count": null,
   "metadata": {
    "collapsed": false
   },
   "outputs": [],
   "source": [
    "### STUDENT ANSWER\n"
   ]
  },
  {
   "cell_type": "markdown",
   "metadata": {},
   "source": [
    "This is a plot we generated last week. Let's see if something else comes out of a time-frequency analysis.\n",
    "\n",
    "* Convert the `Epochs` object into a time-frequency representation.\n",
    "  * Use frequencies from 5 to 140 spaced 2Hz apart\n",
    "  * Accomplish this with mne `tfr_array_morlet` function.\n",
    "  * Print the shape of the output for each condition. What does each axis represent?"
   ]
  },
  {
   "cell_type": "code",
   "execution_count": null,
   "metadata": {
    "collapsed": false
   },
   "outputs": [],
   "source": [
    "### STUDENT ANSWER\n"
   ]
  },
  {
   "cell_type": "markdown",
   "metadata": {},
   "source": [
    "* For each condition:\n",
    "  * Convert the output of `tfr_array_morlet` into an `AverageTFR` object. This will let you plot it. Use the docstring from `AverageTFR` to figure out how to create an object from data.\n",
    "  * Plot a topographic map of the TFR for each electrode. Use the `plot_tfr_topo` function in neurods."
   ]
  },
  {
   "cell_type": "code",
   "execution_count": null,
   "metadata": {
    "collapsed": false
   },
   "outputs": [],
   "source": [
    "### STUDENT ANSWER\n"
   ]
  },
  {
   "cell_type": "markdown",
   "metadata": {},
   "source": [
    "* Finally, plot the difference (dissonant - consonant) for each TFR. Convert this into an MNE `AverageTFR` object.\n",
    "* Plot the result on the brain as well."
   ]
  },
  {
   "cell_type": "code",
   "execution_count": null,
   "metadata": {
    "collapsed": false
   },
   "outputs": [],
   "source": [
    "### STUDENT ANSWER\n"
   ]
  },
  {
   "cell_type": "markdown",
   "metadata": {
    "collapsed": true
   },
   "source": [
    "* Do you see any differences between the two groups?\n",
    "* How would you test for a difference between the two?"
   ]
  },
  {
   "cell_type": "markdown",
   "metadata": {},
   "source": [
    "# Inspecting high-frequency activity\n",
    "It seems like there are two \"blobs\" of high-frequency activity in the bove plots. Moreover, these blobs are more localized to specific electrodes than the ERPs of raw activity we saw before. Let's take a look at this activity.\n",
    "\n",
    "* Extract the first Epoch from the consonant data. Insert it into a new variable.\n",
    "* Using a bank of morlet wavelets, filter the epoch with 5 equally-spaced frequencies from 70-140Hz.\n",
    "* Take the \"real\" component of the result (using `np.real`), and average across frequencies."
   ]
  },
  {
   "cell_type": "code",
   "execution_count": null,
   "metadata": {
    "collapsed": false
   },
   "outputs": [],
   "source": [
    "### STUDENT ANSWER\n"
   ]
  },
  {
   "cell_type": "markdown",
   "metadata": {},
   "source": [
    "* Plot the result in a single plot"
   ]
  },
  {
   "cell_type": "code",
   "execution_count": null,
   "metadata": {
    "collapsed": false
   },
   "outputs": [],
   "source": [
    "### STUDENT ANSWER\n"
   ]
  },
  {
   "cell_type": "markdown",
   "metadata": {},
   "source": [
    "* What do you notice about the edges of the plot?\n",
    "* Try the same process with a few other epochs, see if the edges look consistent.\n",
    "\n",
    "The peaks that you see at the corners are called \"edge artifacts\". In order to get around them, we need to remove timepoints near the edges of our data (e.g., at the beginning and end). As such, it is generally better to extract the frequency amplitudes from the **`Raw`** data, and then convert it to epochs.\n",
    "\n",
    "* Using the `extract_amplitude` function described below, extract 5 linearly-spaced amplitudes from 70-150 Hz (define them manually or try using `np.linspace`). This function does the same thing that you did above, but it is more efficient with memory use.\n",
    "* Turn this `Raw` object into an `Epochs` object using the same event times that we used above."
   ]
  },
  {
   "cell_type": "code",
   "execution_count": null,
   "metadata": {},
   "outputs": [],
   "source": [
    "from tqdm import tqdm\n",
    "import warnings\n",
    "\n",
    "def extract_amplitude(inst, freqs, n_cycles=7, normalize=False):\n",
    "    \"\"\"Extract the time-varying amplitude for a frequency band.\n",
    "\n",
    "    If multiple freqs are given, the amplitude is calculated at each frequency\n",
    "    and then averaged across frequencies.\n",
    "\n",
    "    Parameters\n",
    "    ----------\n",
    "    inst : instance of Raw or Epochs\n",
    "        The data to have amplitude extracted.\n",
    "    freqs : array of ints/floats, shape (n_freqs)\n",
    "        The frequencies to use. If multiple frequencies are given, amplitude\n",
    "        will be extracted at each and then averaged between frequencies.\n",
    "    n_cycles : int\n",
    "        The number of cycles to include in the filter length for the wavelet.\n",
    "    normalize : bool\n",
    "        Normalize the power of each band by its mean before combining.\n",
    "\n",
    "    Returns\n",
    "    -------\n",
    "    inst : mne instance, same type as input 'inst'\n",
    "        The MNE instance with channels replaced with their time-varying\n",
    "        amplitude for the supplied frequency range.\n",
    "    \"\"\"\n",
    "\n",
    "    # Data checks\n",
    "    freqs = np.atleast_1d(freqs)\n",
    "    if not inst.preload:\n",
    "        raise ValueError('Data must be preloaded.')\n",
    "\n",
    "    data = inst.get_data()\n",
    "    data=data[np.newaxis, :]\n",
    "    sfreq = inst.info['sfreq']\n",
    "    n_channels, n_times = data.shape[1], data.shape[2]\n",
    "\n",
    "    # Initialize array to store the band amplitudes\n",
    "    bands = np.zeros((1, n_channels, n_times))\n",
    "\n",
    "    for ifreq in tqdm(freqs, desc=\"Processing frequencies\"):\n",
    "        with warnings.catch_warnings():\n",
    "            warnings.simplefilter(\"ignore\")\n",
    "            # Perform time-frequency decomposition\n",
    "            tfr_complex = mne.time_frequency.tfr_array_morlet(\n",
    "                data, sfreq=sfreq, freqs=[ifreq], n_cycles=n_cycles, output='complex'\n",
    "            )\n",
    "        \n",
    "        # Compute the amplitude (absolute value of the complex TFR)\n",
    "        band = np.abs(tfr_complex[:, :, 0, :])\n",
    "        \n",
    "        if normalize:\n",
    "            band /= band.mean(axis=-1, keepdims=True)\n",
    "\n",
    "        bands += band\n",
    "\n",
    "    # Average across frequencies\n",
    "    bands /= len(freqs)\n",
    "\n",
    "    # Create a new MNE object with the amplitude data\n",
    "    inst_amplitude = inst.copy()\n",
    "    inst_amplitude._data = bands.reshape(n_channels,n_times)\n",
    "\n",
    "    return inst_amplitude"
   ]
  },
  {
   "cell_type": "code",
   "execution_count": null,
   "metadata": {
    "collapsed": false
   },
   "outputs": [],
   "source": [
    "### STUDENT ANSWER\n"
   ]
  },
  {
   "cell_type": "markdown",
   "metadata": {},
   "source": [
    "* Create an average response for each event type \n",
    "* Plot this average response (with the `.plot` method)\n",
    "* For make a list of the top 3 active channels that you determine by visual inspection (you can see the channel names by clicking on each trace)"
   ]
  },
  {
   "cell_type": "code",
   "execution_count": null,
   "metadata": {
    "collapsed": false
   },
   "outputs": [],
   "source": [
    "### STUDENT ANSWER\n"
   ]
  },
  {
   "cell_type": "code",
   "execution_count": null,
   "metadata": {
    "collapsed": true
   },
   "outputs": [],
   "source": [
    "### STUDENT ANSWER\n"
   ]
  },
  {
   "cell_type": "markdown",
   "metadata": {},
   "source": [
    "* Now, plot each one on the brain using the ECoG layout we loaded above. Remember we can do this with the `plot_topo` function, and don't forget to include an image of the brain as well (which we've also already loaded)."
   ]
  },
  {
   "cell_type": "code",
   "execution_count": null,
   "metadata": {
    "collapsed": false
   },
   "outputs": [],
   "source": [
    "### STUDENT ANSWER\n"
   ]
  },
  {
   "cell_type": "markdown",
   "metadata": {},
   "source": [
    "* Finally, plot the difference (dissonant - consonant) between the two on the brain. You can calculate the difference using mne.combine_evoked().\n"
   ]
  },
  {
   "cell_type": "code",
   "execution_count": null,
   "metadata": {
    "collapsed": false
   },
   "outputs": [],
   "source": [
    "### STUDENT ANSWER\n"
   ]
  },
  {
   "cell_type": "markdown",
   "metadata": {},
   "source": [
    "* Does it look like there is a difference between the two?\n",
    "* Is it more or less localized than the signals that we've looked at so far?\n",
    "* Why or why not?"
   ]
  },
  {
   "cell_type": "code",
   "execution_count": null,
   "metadata": {
    "collapsed": true
   },
   "outputs": [],
   "source": [
    "### STUDENT ANSWER\n"
   ]
  },
  {
   "cell_type": "markdown",
   "metadata": {},
   "source": [
    "# Bonus: Confidence intervals\n",
    "Now that we've calculated the evoked high-frequency amplitude for two conditions, let's test to see if there is a difference between them.\n",
    "\n",
    "* For the 3 most active electrodes:\n",
    "* Using the bootstrap method, calculate the confidence interval for the difference between our two conditions\n",
    "  * Note that our trials are not naturally paired, so you'll have to take a sample of trials in each group first, calculate their mean, and then store that value\n",
    "* Plot the histogram of bootstrapped differences, as well as 95 and 99% confidence intervals.\n",
    "* Do you conclude that there is a significant difference between the two conditions for any of these channels?\n",
    "* Why do you think this is, or is not, the case?"
   ]
  },
  {
   "cell_type": "code",
   "execution_count": null,
   "metadata": {
    "collapsed": true
   },
   "outputs": [],
   "source": [
    "### STUDENT ANSWER\n"
   ]
  },
  {
   "cell_type": "code",
   "execution_count": null,
   "metadata": {
    "collapsed": true
   },
   "outputs": [],
   "source": []
  }
 ],
 "metadata": {
  "hide_input": false,
  "kernelspec": {
   "display_name": "Python 3",
   "language": "python",
   "name": "python3"
  },
  "language_info": {
   "codemirror_mode": {
    "name": "ipython",
    "version": 3
   },
   "file_extension": ".py",
   "mimetype": "text/x-python",
   "name": "python",
   "nbconvert_exporter": "python",
   "pygments_lexer": "ipython3",
   "version": "3.5.2"
  }
 },
 "nbformat": 4,
 "nbformat_minor": 0
}
