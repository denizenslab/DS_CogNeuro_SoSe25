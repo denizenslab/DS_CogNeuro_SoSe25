{
 "cells": [
  {
   "cell_type": "markdown",
   "metadata": {},
   "source": [
    "##### NAME: <enter-your-name-here>"
   ]
  },
  {
   "cell_type": "markdown",
   "metadata": {},
   "source": [
    "# Events and Eyeblinks\n",
    "This week we've seen data that is contaminated with a number of eyeblinks. These would make it very difficult to run analyses on our data (imagine if the person blinked their eyes every time we showed them a picture. We would conclude that the brain was high, but most of it would be *confounded*  with the eyeblinks.\n",
    "\n",
    "In this lab, we'll use the same eyeblink detection algorithm shown in the lecture, and use it to subtract out the eyeblinks from the data. This will be an important step in data analysis because we'll start playing with event-related brain activity.\n",
    "\n",
    "# The data\n",
    "We'll use two datasets today. The first dataset is the same that we've gone through in lecture (EEG data). The second is an ECoG dataset. We'll compare what eyeblinks look like in one vs. the other data type."
   ]
  },
  {
   "cell_type": "code",
   "execution_count": null,
   "metadata": {
    "collapsed": true
   },
   "outputs": [],
   "source": [
    "import mne\n",
    "import neurods as nds\n",
    "import numpy as np\n",
    "import matplotlib.pyplot as plt\n",
    "%matplotlib inline"
   ]
  },
  {
   "cell_type": "markdown",
   "metadata": {},
   "source": [
    "# Running the eyeblink detection"
   ]
  },
  {
   "cell_type": "markdown",
   "metadata": {},
   "source": [
    "Load the raw data given in data_path (use MNE's io function)"
   ]
  },
  {
   "cell_type": "code",
   "execution_count": null,
   "metadata": {
    "collapsed": false
   },
   "outputs": [],
   "source": [
    "data_path = '../../data/eeg/mne_sample/mne_sample-raw.fif'"
   ]
  },
  {
   "cell_type": "code",
   "execution_count": null,
   "metadata": {
    "collapsed": false
   },
   "outputs": [],
   "source": [
    "### STUDENT ANSWER\n"
   ]
  },
  {
   "cell_type": "markdown",
   "metadata": {},
   "source": [
    "## Baselines\n",
    "There is often a different mean value for each electrode, which can vary quite a lot between electrodes. It is often not very meaningful because it's related more to recording hardware than to brain activity.\n",
    "\n",
    "As such, it is common to **baseline** channels. This is a way of putting them on the same starting point, so that you can more clearly compare their activity. It basically entails the following process:\n",
    "\n",
    "1. For each channel\n",
    "  1. Choose a time window you want to use as a baseline.\n",
    "  1. Calculate the average channel activity within that baseline window.\n",
    "  1. Subtract that number from the entire channel.\n",
    "\n",
    "Below we'll add a baseline to our data before we run the eye blink detection, this will make it easier to highlight the effect we want.\n",
    "\n",
    "* Run the MNE eyeblink detection algorithm we covered in class on this dataset. Use channel `EEG 003` in the data.\n",
    "  * Use a 1 second window on both sides of the blink\n",
    "  * Add a baseline as well. The baseline should be from -1 to -0.5 seconds. You can pass this as a list using the `baseline` parameter to the same function. e.g. `baseline=[-1, -.5]`"
   ]
  },
  {
   "cell_type": "code",
   "execution_count": null,
   "metadata": {
    "collapsed": false
   },
   "outputs": [],
   "source": [
    "### STUDENT ANSWER\n"
   ]
  },
  {
   "cell_type": "markdown",
   "metadata": {},
   "source": [
    "* Explore the `blinks` object a little bit. Take a look at the attributes and methods that it has.\n",
    "* This is an `Epochs` object. It's used for representing event-related information in MNE.\n",
    "\n",
    "\n",
    "* You should be able to access the raw data in the objects with the `_data` attribute. Assign this data into a variable (e.g. call it data).\n",
    "* You can also access the time information for each event with the `times` attribute. Assign this to a new variable name (e.g. time)."
   ]
  },
  {
   "cell_type": "code",
   "execution_count": null,
   "metadata": {
    "collapsed": false
   },
   "outputs": [],
   "source": [
    "### STUDENT ANSWER\n"
   ]
  },
  {
   "cell_type": "markdown",
   "metadata": {},
   "source": [
    "Check the size of these variables"
   ]
  },
  {
   "cell_type": "code",
   "execution_count": null,
   "metadata": {
    "collapsed": false
   },
   "outputs": [],
   "source": [
    "### STUDENT ANSWER\n"
   ]
  },
  {
   "cell_type": "markdown",
   "metadata": {},
   "source": [
    "# Plotting the result with matplotlib\n",
    "Now that we've got some raw data with eyeblinks, let's plot what it looks like. Remember, the eyeblink algorithm pulls out a number of timepoints where it thinks an eyeblink occurs. We can average across these events to get an idea for the \"average\" eyeblink waveform.\n",
    "\n",
    "* Plot the first 3 eyeblink events for the first channel."
   ]
  },
  {
   "cell_type": "code",
   "execution_count": null,
   "metadata": {
    "collapsed": false
   },
   "outputs": [],
   "source": [
    "### STUDENT ANSWER\n"
   ]
  },
  {
   "cell_type": "markdown",
   "metadata": {},
   "source": [
    "* Now plot 3 random epochs (use the `numpy.random.randint` function to create 3 random integers)"
   ]
  },
  {
   "cell_type": "code",
   "execution_count": null,
   "metadata": {
    "collapsed": false
   },
   "outputs": [],
   "source": [
    "### STUDENT ANSWER\n"
   ]
  },
  {
   "cell_type": "markdown",
   "metadata": {},
   "source": [
    "* Do all of these events look the same to you? You can re-run the `randint` code a bunch of times and it'll give you different results each time.\n",
    "* Average across the first dimension of your eyeblinks data. The first dimension is `epochs`, so we are averaging across epochs.\n",
    "* Now plot the average eyeblink for each channel."
   ]
  },
  {
   "cell_type": "code",
   "execution_count": null,
   "metadata": {
    "collapsed": false
   },
   "outputs": [],
   "source": [
    "### STUDENT ANSWER\n"
   ]
  },
  {
   "cell_type": "markdown",
   "metadata": {},
   "source": [
    "# Plotting with MNE\n",
    "As we have discovered, MNE handles a lot of these cases more easily and more quickly than plotting it by hand. In this case, we can easily plot all events, as well as do some quick average plotting.\n",
    "\n",
    "* First, plot all of the eyeblink events using the `Epochs` object that was returned by our eyeblink algorithm. Remember to use `scalings='auto'`. Plot only 5 epochs at a time."
   ]
  },
  {
   "cell_type": "code",
   "execution_count": null,
   "metadata": {
    "collapsed": false
   },
   "outputs": [],
   "source": [
    "### STUDENT ANSWER\n"
   ]
  },
  {
   "cell_type": "markdown",
   "metadata": {},
   "source": [
    "* Do all of the blinks occur evenly throughout the channels? \n",
    "* Now, create the average eyeblink for each channel with MNE. Use the `.average` method. This will return an `Evoked` object, which is how MNE represents the *average* activity during an epoch.\n",
    "* Now call the `.plot` method of our `Evoked` object to see the average waveform."
   ]
  },
  {
   "cell_type": "code",
   "execution_count": null,
   "metadata": {
    "collapsed": false
   },
   "outputs": [],
   "source": [
    "### STUDENT ANSWER\n"
   ]
  },
  {
   "cell_type": "markdown",
   "metadata": {},
   "source": [
    "Now we'll try to figure out where these eyeblinks are coming from (though you could probably guess on your own).\n",
    "\n",
    "* Plot the scalp topographies of the events. Use the `.plot_joint` method of the `Evoked` object you created above to plot both the scalp topography, as well as the waveforms, for each event. "
   ]
  },
  {
   "cell_type": "code",
   "execution_count": null,
   "metadata": {
    "collapsed": false
   },
   "outputs": [],
   "source": [
    "### STUDENT ANSWER\n"
   ]
  },
  {
   "cell_type": "markdown",
   "metadata": {},
   "source": [
    "> * How does this compare with the topographic maps that we calculated in the lecture? What difference did it make when we baselined each channel?"
   ]
  },
  {
   "cell_type": "code",
   "execution_count": null,
   "metadata": {
    "collapsed": true
   },
   "outputs": [],
   "source": [
    "### STUDENT ANSWER\n"
   ]
  },
  {
   "cell_type": "markdown",
   "metadata": {},
   "source": [
    "# Correcting the eyeblinks\n",
    "Now that we've got a good idea for what these eyeblink waveforms look like, let's see if we can subtract them out of our data. We've already calculated the \"average\" eyeblink for each channel. We can try to simply subtract this from all of the channels and see if that corrects for our eyeblinks.\n",
    "\n",
    "* Pull the raw data from the `Evoked` object you created above. It exists at the `._data` attribute\n",
    "* Copy the `Epochs` created above by the eyeblink detection algorithm (use the `.copy` method to do this.) \n",
    "* Subtract the `Evoked` data from the raw data in our new `Epochs` object."
   ]
  },
  {
   "cell_type": "code",
   "execution_count": null,
   "metadata": {
    "collapsed": false
   },
   "outputs": [],
   "source": [
    "### STUDENT ANSWER\n"
   ]
  },
  {
   "cell_type": "markdown",
   "metadata": {},
   "source": [
    "* Then, re-do the plots you made above. Plot the new activity in the `Epochs` object."
   ]
  },
  {
   "cell_type": "code",
   "execution_count": null,
   "metadata": {
    "collapsed": false
   },
   "outputs": [],
   "source": [
    "### STUDENT ANSWER\n"
   ]
  },
  {
   "cell_type": "markdown",
   "metadata": {},
   "source": [
    "* Now, plot the average activity for this new epochs object."
   ]
  },
  {
   "cell_type": "code",
   "execution_count": null,
   "metadata": {
    "collapsed": false
   },
   "outputs": [],
   "source": [
    "### STUDENT ANSWER\n"
   ]
  },
  {
   "cell_type": "markdown",
   "metadata": {},
   "source": [
    "* Now, restrict the times to -.5 to .5 seconds. (Use the *crop* function)\n",
    "* Re-plot the average activity"
   ]
  },
  {
   "cell_type": "code",
   "execution_count": null,
   "metadata": {
    "collapsed": false
   },
   "outputs": [],
   "source": [
    "### STUDENT ANSWER\n"
   ]
  },
  {
   "cell_type": "markdown",
   "metadata": {
    "collapsed": true
   },
   "source": [
    "It still seems like there's a lot going on, but take a look at the y-axis. It is different now. We can more directly compare this below...\n",
    "\n",
    "* Set the y-axis limits to the same values you plotted before subtracting the average eyeblinks\n",
    "  * You can do this with the `ylim` parameter of the *plot* function.\n",
    "  * This takes a dictionary of `electrode_type: ylim` pairs.\n",
    "  * So you can pass `dict(eeg=[y_lim_low, y_lim_hi])`.\n",
    "* What happened to the average eyeblink for each channel?"
   ]
  },
  {
   "cell_type": "code",
   "execution_count": null,
   "metadata": {
    "collapsed": false
   },
   "outputs": [],
   "source": [
    "### STUDENT ANSWER\n"
   ]
  },
  {
   "cell_type": "markdown",
   "metadata": {},
   "source": [
    "* Finally, make the topo plot again (using `plot_joint`)"
   ]
  },
  {
   "cell_type": "code",
   "execution_count": null,
   "metadata": {
    "collapsed": false
   },
   "outputs": [],
   "source": [
    "### STUDENT ANSWER\n"
   ]
  },
  {
   "cell_type": "markdown",
   "metadata": {
    "collapsed": false
   },
   "source": [
    "* Does the data look cleaner now? Why or why not?\n",
    "* How did the scalp topography change? And why is this?\n",
    "* Did it work equally for all channels? Why do you think this is?"
   ]
  },
  {
   "cell_type": "code",
   "execution_count": null,
   "metadata": {
    "collapsed": true
   },
   "outputs": [],
   "source": [
    "### STUDENT ANSWER\n"
   ]
  },
  {
   "cell_type": "markdown",
   "metadata": {},
   "source": [
    "# Eyeblinks in ECoG Data\n",
    "We'll finish up by looking at eyeblink activity in electrocorticography, which is related to EEG but has important differences. Thus far we've looked at eyeblinks in the context of EEG, but what do they look like for a much more invasive procedure liks ECoG?"
   ]
  },
  {
   "cell_type": "code",
   "execution_count": null,
   "metadata": {
    "collapsed": false
   },
   "outputs": [],
   "source": [
    "# Load some ecog data\n",
    "path_ecog = '../../data/ecog/chords_task/ecog_resamp-raw.fif'"
   ]
  },
  {
   "cell_type": "markdown",
   "metadata": {},
   "source": [
    "Load the raw data given in path_ecog (use MNE's io function)"
   ]
  },
  {
   "cell_type": "code",
   "execution_count": null,
   "metadata": {
    "collapsed": false
   },
   "outputs": [],
   "source": [
    "### STUDENT ANSWER\n"
   ]
  },
  {
   "cell_type": "markdown",
   "metadata": {},
   "source": [
    "* Run the eyeblink algorithm on this dataset. Use channel 'ch_33' as the EOG channel."
   ]
  },
  {
   "cell_type": "code",
   "execution_count": null,
   "metadata": {
    "collapsed": false
   },
   "outputs": [],
   "source": [
    "### STUDENT ANSWER\n"
   ]
  },
  {
   "cell_type": "markdown",
   "metadata": {},
   "source": [
    "* Visualize the activity for the eyeblinks that the algorithm found. Only show 5 epochs."
   ]
  },
  {
   "cell_type": "code",
   "execution_count": null,
   "metadata": {
    "collapsed": false
   },
   "outputs": [],
   "source": [
    "### STUDENT ANSWER\n"
   ]
  },
  {
   "cell_type": "markdown",
   "metadata": {},
   "source": [
    "* How does each epoch look compared with our last dataset (EEG)?\n",
    "* Do you think eyeblinks are a bigger or a smaller problem here?"
   ]
  },
  {
   "cell_type": "code",
   "execution_count": null,
   "metadata": {
    "collapsed": true
   },
   "outputs": [],
   "source": [
    "### STUDENT ANSWER\n"
   ]
  },
  {
   "cell_type": "markdown",
   "metadata": {
    "collapsed": true
   },
   "source": [
    "* Let's try calculating the \"average\" eyeblink as above. Create an `Evoked` object from this data by averaging across trials.\n",
    "* Now plot the average activity."
   ]
  },
  {
   "cell_type": "code",
   "execution_count": null,
   "metadata": {
    "collapsed": false
   },
   "outputs": [],
   "source": [
    "### STUDENT ANSWER\n"
   ]
  },
  {
   "cell_type": "markdown",
   "metadata": {
    "collapsed": true
   },
   "source": [
    "* How does this compare with what we saw before?\n",
    "* Why do you think some lines are noisier than others? Are these eyeblinks?\n",
    "* Why do you think this dataset would be different from the EEG dataset?"
   ]
  },
  {
   "cell_type": "code",
   "execution_count": null,
   "metadata": {
    "collapsed": true
   },
   "outputs": [],
   "source": [
    "### STUDENT ANSWER\n"
   ]
  },
  {
   "cell_type": "markdown",
   "metadata": {},
   "source": [
    "### Other notes\n",
    "This is only one way that you could detect eyeblinks. In practice, we have much more complicated techniques to detect these kinds of noise in the brain.\n",
    "\n",
    "For one example, here is how you can use an algorithm called \"Independent Components Analysis\" (ICA) to extract an ECG signal embedded in the neural signals (ECG is related to heart activity).\n",
    "\n",
    "This algorithm simultaneously considers the activity across all channels in order to determine the shape of the noisy signal, and then subtracts it out.\n",
    "\n",
    "https://mne.tools/stable/auto_tutorials/preprocessing/40_artifact_correction_ica.html\n"
   ]
  },
  {
   "cell_type": "code",
   "execution_count": null,
   "metadata": {
    "collapsed": true
   },
   "outputs": [],
   "source": []
  }
 ],
 "metadata": {
  "hide_input": false,
  "kernelspec": {
   "display_name": "Python 3",
   "language": "python",
   "name": "python3"
  },
  "language_info": {
   "codemirror_mode": {
    "name": "ipython",
    "version": 3
   },
   "file_extension": ".py",
   "mimetype": "text/x-python",
   "name": "python",
   "nbconvert_exporter": "python",
   "pygments_lexer": "ipython3",
   "version": "3.5.2"
  }
 },
 "nbformat": 4,
 "nbformat_minor": 0
}
