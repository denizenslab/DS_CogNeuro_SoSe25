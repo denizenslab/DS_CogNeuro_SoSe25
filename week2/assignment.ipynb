{
 "cells": [
  {
   "cell_type": "markdown",
   "metadata": {},
   "source": [
    "# Exploring raw data\n",
    "This lab will continue our topic from this weeks class - exploring raw data.\n",
    "\n",
    "Before you perform any analysis on *any* dataset, you should always take a look at the data in its \"raw\" form. This is crucial for a number of reasons. Looking at the data before you've done anything to it lets you:\n",
    "\n",
    "1. Have a sanity check that it looks the way it should\n",
    "2. Note any datapoints that seem like they're outliers\n",
    "3. Find any sensors that are noisy or unreliable\n",
    "4. Give a global-level view of what your dataset looks like\n",
    "\n",
    "And a bunch of other stuff too.\n",
    "\n",
    "# The dataset\n",
    "In lecture we discussed Electroencephalography (EEG), in which electrodes are placed on a person's scalp in order to record electrical activity coming from the brain.\n",
    "\n",
    "This lab will use a related (but different) dataset using a method called *electrocorticography*. This is a recording taken from the brain surface of a patient getting surgery for epilepsy.\n",
    "\n",
    "Each sensor is an electrode placed on the \"cortical surface\" of the patient's brain. We are recording the electrical activity their brain produces as they sit in the Intensive Care Unit (ICU)"
   ]
  },
  {
   "cell_type": "code",
   "execution_count": null,
   "metadata": {
    "collapsed": true
   },
   "outputs": [],
   "source": [
    "import mne\n",
    "import numpy as np\n",
    "import matplotlib.pyplot as plt\n",
    "import neurods as nds\n",
    "%matplotlib inline"
   ]
  },
  {
   "cell_type": "markdown",
   "metadata": {},
   "source": [
    "# 1 - Loading and simple plotting\n",
    "First we'll use the datascience package to look at a few subsets of the data.\n",
    "\n",
    "* Using the data path below, load the data into memory.\n",
    "* Then, convert this object into a Table."
   ]
  },
  {
   "cell_type": "code",
   "execution_count": null,
   "metadata": {
    "collapsed": false
   },
   "outputs": [],
   "source": [
    "# The path to the new dataset can be found here:\n",
    "# This is a dataset of electrocorticography (not EEG).\n",
    "path_to_data = nds.io.data_list['ecog'] + 'ecog_sample/ecog_sample_full-raw.fif'\n",
    "\n",
    "### STUDENT ANSWER\n"
   ]
  },
  {
   "cell_type": "markdown",
   "metadata": {},
   "source": [
    "First off, we'll use the `datascience` Table class to do some quick plotting. Because neuroscience data tends to be quite large, we're giving you a helper function to convert `Raw` objects into datascience tables (otherwise there's a good chance you'd explode the cluster memory!)"
   ]
  },
  {
   "cell_type": "code",
   "execution_count": null,
   "metadata": {
    "collapsed": false
   },
   "outputs": [],
   "source": [
    "# Here's a helper function to convert MNE objects into Tables\n",
    "raw_table = nds.mne_to_table(raw)  # Pass in the Raw object that you've loaded in the answer above."
   ]
  },
  {
   "cell_type": "markdown",
   "metadata": {},
   "source": [
    "* Now, convert this table into two others:\n",
    "  * One with seconds 5-10\n",
    "  * One with seconds 160-170.\n",
    "* For each table, plot channels 4, 20, 40, and 60"
   ]
  },
  {
   "cell_type": "code",
   "execution_count": null,
   "metadata": {
    "collapsed": false
   },
   "outputs": [],
   "source": [
    "### STUDENT ANSWER\n"
   ]
  },
  {
   "cell_type": "markdown",
   "metadata": {},
   "source": [
    "* Now, try the same thing, but use the `time_mask` function in neurods.\n",
    "  * You should read the docstring of this function to figure out how it works.\n",
    "  * Note that in jupyter notebooks, you can type `function(` and hit `SHIFT+<TAB>`, and it will display the function's docstring."
   ]
  },
  {
   "cell_type": "code",
   "execution_count": null,
   "metadata": {
    "collapsed": false
   },
   "outputs": [],
   "source": [
    "### STUDENT ANSWER\n"
   ]
  },
  {
   "cell_type": "markdown",
   "metadata": {},
   "source": [
    "### Questions\n",
    "* Why do you see a difference between the two time windows? What do you think is going on?"
   ]
  },
  {
   "cell_type": "code",
   "execution_count": null,
   "metadata": {
    "collapsed": true
   },
   "outputs": [],
   "source": [
    "### STUDENT ANSWER\n"
   ]
  },
  {
   "cell_type": "markdown",
   "metadata": {},
   "source": [
    "## Stacking plot traces\n",
    "It's a bit hard to see these traces because they're superimposed on one another.\n",
    "* Make another plot (from 160-170 seconds), but this time iterate through channels, plotting each channel slightly above the one before it."
   ]
  },
  {
   "cell_type": "code",
   "execution_count": null,
   "metadata": {
    "collapsed": false
   },
   "outputs": [],
   "source": [
    "### STUDENT ANSWER\n"
   ]
  },
  {
   "cell_type": "markdown",
   "metadata": {},
   "source": [
    "# 2 - Interactively browsing with MNE\n",
    "While it's important to be able to plot data on our own, MNE has a set of plotting libraries that make our lives much easier. Here we'll explore some very basic plotting functionality and take a look at our data more quickly.\n",
    "\n",
    "* Using the `Raw` object that we initially loaded in, use the `plot` method to browse the data interactively."
   ]
  },
  {
   "cell_type": "code",
   "execution_count": null,
   "metadata": {
    "collapsed": true
   },
   "outputs": [],
   "source": [
    "# We'll use the interactive notebook mode for this\n",
    "%matplotlib widget\n",
    "\n",
    "# This sets the default figure size so it's a bit larger\n",
    "nds.viz.set_figsize((10, 5))"
   ]
  },
  {
   "cell_type": "code",
   "execution_count": null,
   "metadata": {
    "collapsed": false,
    "scrolled": true
   },
   "outputs": [],
   "source": [
    "# If two plots show up, make sure you add a `_ = ` at the beginning of the line\n",
    "### STUDENT ANSWER\n"
   ]
  },
  {
   "cell_type": "markdown",
   "metadata": {},
   "source": [
    "* How does the above look, why do you think it looks that way?\n",
    "* Try the same plot method, this time with an extra parameter: `scalings='auto'`"
   ]
  },
  {
   "cell_type": "code",
   "execution_count": null,
   "metadata": {
    "collapsed": false
   },
   "outputs": [],
   "source": [
    "### STUDENT ANSWER\n"
   ]
  },
  {
   "cell_type": "markdown",
   "metadata": {},
   "source": [
    "That looks much better - what did you do by setting `scale='auto'`?\n",
    "\n",
    "* Now, try to adjust the scale of the channels manually. You can do this by clicking `=` or `-` on the keyboard. Play around with this, and pick a scaling that you think works well.\n",
    "* Scan through all of the timepoints, from beginning to end. You can do this with the arrow keys (left/right for timepoints, up/down for channels).\n",
    "* Mark which channels seem to be noisy, put them in a list below.\n",
    "* Mark time windows of interest, put them in a list as well."
   ]
  },
  {
   "cell_type": "code",
   "execution_count": null,
   "metadata": {
    "collapsed": true
   },
   "outputs": [],
   "source": [
    "channels = []\n",
    "times = []"
   ]
  },
  {
   "cell_type": "markdown",
   "metadata": {},
   "source": [
    "# Discussion questions (answer with one dot per question below)\n",
    "* What do you think happens if a channel is particularly noisy?\n",
    "* What effect would a particularly noisy set of timepoints have?\n",
    "* How do you think ECoG differs from EEG?\n",
    "* What's going on in this dataset?\n",
    "* What would be useful information to have on top of this dataset? What would allow us to ask more interesting questions?"
   ]
  },
  {
   "cell_type": "code",
   "execution_count": null,
   "metadata": {
    "collapsed": true
   },
   "outputs": [],
   "source": [
    "### STUDENT ANSWER\n"
   ]
  }
 ],
 "metadata": {
  "hide_input": false,
  "kernelspec": {
   "display_name": "Python 3",
   "language": "python",
   "name": "python3"
  },
  "language_info": {
   "codemirror_mode": {
    "name": "ipython",
    "version": 3
   },
   "file_extension": ".py",
   "mimetype": "text/x-python",
   "name": "python",
   "nbconvert_exporter": "python",
   "pygments_lexer": "ipython3",
   "version": "3.10.14"
  }
 },
 "nbformat": 4,
 "nbformat_minor": 0
}
