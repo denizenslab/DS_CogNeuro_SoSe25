{
 "cells": [
  {
   "cell_type": "code",
   "execution_count": null,
   "metadata": {
    "collapsed": true
   },
   "outputs": [],
   "source": [
    "import mne\n",
    "import datascience as ds\n",
    "from matplotlib import pyplot as plt\n",
    "import numpy as np\n",
    "import os.path as op\n",
    "import sys  \n",
    "%matplotlib inline"
   ]
  },
  {
   "cell_type": "markdown",
   "metadata": {},
   "source": [
    "# Overview\n",
    "Our first class is going to cover the background of Electroencephalography (EEG) and Electrocorticography (ECoG). These are the kinds of data we'll use in the first half of this class. Below is a list of topics that we'll focus on.\n",
    "\n",
    "## Goals for today\n",
    "* Load some raw data into python\n",
    "* Simple visualizations to understand the kind of data we have\n",
    "* Learn some things about the data by scanning the raw values\n",
    "* Introduction to the MNE library for electrophysiology\n",
    "\n",
    "---\n",
    "\n",
    "# Introduction to ECoG and EEG\n",
    "See the lecture slides from this week and last week for a primer on ECoG and EEG. It has some background on the history of these methods, what kinds of signals they measure, and what kinds of things we'll try to do with them.\n",
    "\n",
    "# Introduction to MNE-python\n",
    "Recording from brains generates a particular kind of data. Usually this entails recording some signal at many points in time. This is called a *timeseries*. In neuroscience there are many packages specializing in questions that are of interest to us. One of the first packages that we'll use is called MNE-Python (we'll just call it MNE).\n",
    "\n",
    "MNE was first created to do one specific thing: compute something called a \"Minimum Norm Estimate\". This is a technique for determining a source of activity in the brain. However, over time people used for more and more things. Now it is a general framework for analysing electrical signals from the brain.\n",
    "\n",
    "[Here is a link](https://mne.tools/stable/index.html) to its website and documentation.\n",
    "\n",
    "# Visualizing electrophysiology data in python\n",
    "\n",
    "## What is a timeseries?\n",
    "In neuroscience, the most common form of data is called a *timeseries*. This essentially means that we have a sensor that collects information about some signal in the brain as it changes across time.\n",
    "\n",
    "A timeseries can be anything from stock market fluctuations, to the changes in score during a basketball game, to electrical fluctuations in the brain.\n",
    "\n",
    "In this class, we will record two types of timeseries from the human brain:\n",
    "\n",
    "1. Voltage on the brain surface, recorded from electrodes.\n",
    "2. A measure of blood flow on the cortex of the brain, recorded with an fMRI machine.\n",
    "\n",
    "In the first half of this course we'll deal with electrical signals. Today, we'll look at some sample data sets, and start playing around with tools that we have in neuroscience for visualizing and understanding these signals.\n",
    "\n",
    "## A sample timeseries"
   ]
  },
  {
   "cell_type": "code",
   "execution_count": null,
   "metadata": {
    "collapsed": false
   },
   "outputs": [],
   "source": [
    "# Here's a dataset that we've recorded, stored in a comma-separated values file\n",
    "data = ds.Table.read_table('../../data/eeg/mne_sample/mne_sample_subset.csv')"
   ]
  },
  {
   "cell_type": "code",
   "execution_count": null,
   "metadata": {
    "collapsed": false
   },
   "outputs": [],
   "source": [
    "# First, we'll take a quick look at the data\n",
    "data.take[0:5]"
   ]
  },
  {
   "cell_type": "code",
   "execution_count": null,
   "metadata": {
    "collapsed": true
   },
   "outputs": [],
   "source": [
    "# What do each of the columns mean?\n",
    "\n",
    "# There is a time column, what do these numbers represent?"
   ]
  },
  {
   "cell_type": "code",
   "execution_count": null,
   "metadata": {
    "collapsed": false
   },
   "outputs": [],
   "source": [
    "# Now we'll plot a sample timeseries\n",
    "data.plot('time', ['EEG 001'])"
   ]
  },
  {
   "cell_type": "code",
   "execution_count": null,
   "metadata": {
    "collapsed": true
   },
   "outputs": [],
   "source": [
    "# What do you notice about this signal? Any repeating patterns?\n",
    "\n",
    "# What are the values of the y-axis?"
   ]
  },
  {
   "cell_type": "code",
   "execution_count": null,
   "metadata": {
    "collapsed": false
   },
   "outputs": [],
   "source": [
    "# Let's look at the time values for this signal.\n",
    "data['time']"
   ]
  },
  {
   "cell_type": "markdown",
   "metadata": {},
   "source": [
    "These tell us how much time passes between observations of the signal. It's a crucial piece of information in order to do many analyses in neuroscience.\n",
    "\n",
    "The **sampling frequency** (or sampling rate) is the number of samples we record *per second*. We can calculate this by taking $\\frac{1}{time\\_between\\_samples}$"
   ]
  },
  {
   "cell_type": "code",
   "execution_count": null,
   "metadata": {
    "collapsed": false
   },
   "outputs": [],
   "source": [
    "# How would we calcaulte the sampling frequency of this signal?\n",
    "sampling_freq = 1. / (data['time'][1] - data['time'][0])"
   ]
  },
  {
   "cell_type": "code",
   "execution_count": null,
   "metadata": {
    "collapsed": false
   },
   "outputs": [],
   "source": [
    "# Let's plot a couple of other channels as well, and see how they compare\n",
    "data.plot('time', ['EEG 001', 'EEG 013', 'EEG 014'])"
   ]
  },
  {
   "cell_type": "code",
   "execution_count": null,
   "metadata": {
    "collapsed": true
   },
   "outputs": [],
   "source": [
    "# What do you notice about these channels? How are they different? How are they the same?"
   ]
  },
  {
   "cell_type": "markdown",
   "metadata": {},
   "source": [
    "## Using MNE to represent our data\n",
    "Because a timeseries has a specific structure (signals varying over time), there are a number of packages designed to handle this particular kind of data. One of the best python packages for neuroscience is called `MNE-python`. Check out their website here: http://martinos.org/mne/stable/index.html\n",
    "\n",
    "MNE has code that can handle datasets like the one we've used above. They have a number of \"classes\" that handle different kinds of datasets. Here is a short-list of classes that you can use:\n",
    "\n",
    "* `Raw` - raw data sets. (n_channels x n_times)\n",
    "* `Epochs` - datasets that have been split into windows around times of interest (n_trials x n_channels x n_times_in_window)\n",
    "* `Evoked` - datasets that have been averaged across trials. (n_channels x n_times_in_window)\n",
    "\n",
    "Today, we'll focus on the `Raw` data, because it makes viewing your data much easier."
   ]
  },
  {
   "cell_type": "code",
   "execution_count": null,
   "metadata": {
    "collapsed": false
   },
   "outputs": [],
   "source": [
    "# We'll load the same dataset, this time with MNE code\n",
    "raw = mne.io.Raw('../../data/eeg/mne_sample/mne_sample-raw.fif', preload=True)\n",
    "raw"
   ]
  },
  {
   "cell_type": "markdown",
   "metadata": {},
   "source": [
    "The benefit of using neuro-specific classes (like those in MNE-python) is that we can make assumptions about the data in order to allow us to do more complicated things very easily.\n",
    "\n",
    "For example, any object that represents data in `MNE-python` will have an `info` attribute. This is a collection of information about the data at hand. It includes information like:\n",
    "\n",
    "* `info['sfreq']` - The sampling frequency of the data\n",
    "* `info['ch_names']` - The names of channels in the data\n",
    "* `info['bads']` - A list of \"bad\" channels\n",
    "* `info['chs']` - A more complex collection of channel information, such as xyz location.\n",
    "\n",
    "There are many other pieces of information related to things that are important in EEG analysis, most of which we won't go into."
   ]
  },
  {
   "cell_type": "code",
   "execution_count": null,
   "metadata": {
    "collapsed": false
   },
   "outputs": [],
   "source": [
    "# Here's a list of all the things in an Info object\n",
    "raw.info"
   ]
  },
  {
   "cell_type": "markdown",
   "metadata": {},
   "source": [
    "Using MNE objects also gives us **methods** that can do particularly useful things. For example, we can easily crop the data in order to keep only a subset of times:"
   ]
  },
  {
   "cell_type": "code",
   "execution_count": null,
   "metadata": {
    "collapsed": false
   },
   "outputs": [],
   "source": [
    "# We can easily select subsets of the data for plotting\n",
    "raw_crop = raw.crop(0, 2)\n",
    "\n",
    "# However, be careful because this often modifies our data in-place\n",
    "raw"
   ]
  },
  {
   "cell_type": "code",
   "execution_count": null,
   "metadata": {
    "collapsed": false
   },
   "outputs": [],
   "source": [
    "# To get around this, we can run `copy` before modifying the data\n",
    "# Note this is specific to MNE, it may not work on other packages\n",
    "raw = mne.io.Raw('../../data/eeg/mne_sample/mne_sample-raw.fif', preload=True)\n",
    "raw.copy().crop(0, 2)"
   ]
  },
  {
   "cell_type": "markdown",
   "metadata": {},
   "source": [
    "We can also use more complex methods for things like data analysis and plotting, which we'll cover later.\n",
    "\n",
    "You may have noticed that we used a flag `preload=True` when loading this data. By default (or if `preload=False`), MNE will not actually load in the data when you create the object. This is in order to save memory until it is needed. However, our data won't be so large so we'll always preload it."
   ]
  },
  {
   "cell_type": "code",
   "execution_count": null,
   "metadata": {
    "collapsed": false
   },
   "outputs": [],
   "source": [
    "# If the data has been preloaded (preload=True), then you can access the\n",
    "# raw data here:\n",
    "raw._data"
   ]
  },
  {
   "cell_type": "markdown",
   "metadata": {},
   "source": [
    "## Plotting raw data with MNE\n",
    "MNE has a lot of plotting functionality, which is one of the most important things to do in data analysis. Below we'll explore the basic ways in which we can visualize our data."
   ]
  },
  {
   "cell_type": "code",
   "execution_count": null,
   "metadata": {
    "collapsed": true
   },
   "outputs": [],
   "source": [
    "# To use this, we'll need to activate \"interactive\" mode\n",
    "# This lets us keep plots interactive in the notebook\n",
    "%matplotlib widget"
   ]
  },
  {
   "cell_type": "markdown",
   "metadata": {},
   "source": [
    "First, we'll plot the raw data. This will give us an output of traces, one for each channel. The x-axis is time (in seconds). What we are looking at is the electrical activity (voltage) recorded at the scalp, and generated by neural activity."
   ]
  },
  {
   "cell_type": "code",
   "execution_count": null,
   "metadata": {
    "collapsed": false
   },
   "outputs": [],
   "source": [
    "# Putting `_` before the equals sign tells Python to throw away the output\n",
    "# Otherwise, it will make 2 plots.\n",
    "_ = raw.plot(scalings='auto')"
   ]
  },
  {
   "cell_type": "markdown",
   "metadata": {},
   "source": [
    "You can browse this data interactively. Here are a few points:\n",
    "\n",
    "* Hover over points in the data. A green bar will appear, along with the time (in seconds) for that point.\n",
    "* Click on a channel, it will turn grey. This is for marking \"bad\" channels. Bad channel information will be stored in the `Raw` data object.\n",
    "* Press the arrow keys. Left/Right will move forward and backward in time. up/down will move through channels.\n",
    "* Press the `-` or `=` key. This will scale the channels up and down in amplitude to make things easier to see.\n",
    "* If you want to stop the interactivity, press the \"power\" button to the top right\n",
    "\n",
    "There is a lot of other functionality in MNE plotting, but we won't go into that here."
   ]
  },
  {
   "cell_type": "code",
   "execution_count": null,
   "metadata": {
    "collapsed": true
   },
   "outputs": [],
   "source": [
    "# Why are some lines inverted relative to others?\n",
    "# Why are some lines higher / lower than others?"
   ]
  },
  {
   "cell_type": "markdown",
   "metadata": {},
   "source": [
    "## Plotting sensor locations\n",
    "Patterns of recorded neural activity wouldn't be very useful without knowing where that activity was generated. In EEG and ECoG our sensors sit on the scalp and the surface of the brain, respectively.\n",
    "\n",
    "MNE has simple functions for plotting the location of sensors with EEG. We can see this below:"
   ]
  },
  {
   "cell_type": "code",
   "execution_count": null,
   "metadata": {
    "collapsed": false
   },
   "outputs": [],
   "source": [
    "# We can look at the layout of channels on the brain.\n",
    "# Almost all EEG setups have the same general structure.\n",
    "_ = raw.plot_sensors(show_names=True)"
   ]
  },
  {
   "cell_type": "code",
   "execution_count": null,
   "metadata": {
    "collapsed": false
   },
   "outputs": [],
   "source": [
    "# We can also plot in 3d\n",
    "_ = raw.plot_sensors('3d')"
   ]
  },
  {
   "cell_type": "markdown",
   "metadata": {},
   "source": [
    "In ECoG things are a bit more complicated, because each ECoG grid is unique (just as each person's brain is unique)."
   ]
  }
 ],
 "metadata": {
  "hide_input": false,
  "kernelspec": {
   "display_name": "teaching",
   "language": "python",
   "name": "python3"
  },
  "language_info": {
   "codemirror_mode": {
    "name": "ipython",
    "version": 3
   },
   "file_extension": ".py",
   "mimetype": "text/x-python",
   "name": "python",
   "nbconvert_exporter": "python",
   "pygments_lexer": "ipython3",
   "version": "3.10.14"
  }
 },
 "nbformat": 4,
 "nbformat_minor": 0
}
